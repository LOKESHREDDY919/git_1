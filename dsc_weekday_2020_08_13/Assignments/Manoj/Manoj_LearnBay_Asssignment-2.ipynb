{
 "cells": [
  {
   "cell_type": "code",
   "execution_count": 4,
   "metadata": {},
   "outputs": [
    {
     "name": "stdout",
     "output_type": "stream",
     "text": [
      "enter a temp in Fahrenheit: 32\n",
      "temperature in Celcius : 0.0 degrees\n"
     ]
    }
   ],
   "source": [
    "F = input(\"enter a temp in Fahrenheit: \")\n",
    "C = (float(F) - 32) * (5/9)\n",
    "print(\"temperature in Celcius : \" + str(C) + \" degrees\")"
   ]
  },
  {
   "cell_type": "code",
   "execution_count": 6,
   "metadata": {},
   "outputs": [
    {
     "name": "stdout",
     "output_type": "stream",
     "text": [
      "enter a number: 2\n",
      "Square of a number is : 4.0\n",
      "Square of a number is : 8.0\n"
     ]
    }
   ],
   "source": [
    "N = float(input(\"enter a number: \"))\n",
    "square = pow(N,2)\n",
    "cube = pow(N,3)\n",
    "print( \"Square of a number is : \" + str(square))\n",
    "print( \"Square of a number is : \" + str(cube))"
   ]
  },
  {
   "cell_type": "code",
   "execution_count": 7,
   "metadata": {},
   "outputs": [
    {
     "name": "stdout",
     "output_type": "stream",
     "text": [
      "enter a number: 10\n",
      "enter a number: 20\n",
      "n-square plus m-square is : 500.0\n"
     ]
    }
   ],
   "source": [
    "n = float(input(\"enter a number: \"))\n",
    "m = float(input(\"enter a number: \"))\n",
    "n2 = pow(n,2)\n",
    "m2 = pow(m,2)\n",
    "square = n2 + m2\n",
    "print( \"n-square plus m-square is : \" + str(square))"
   ]
  },
  {
   "cell_type": "code",
   "execution_count": 8,
   "metadata": {},
   "outputs": [
    {
     "name": "stdout",
     "output_type": "stream",
     "text": [
      "enter a number: 2\n",
      "enter a number: 3\n",
      "m power n using pow : 9.0\n",
      "m power n using ** : 9.0\n"
     ]
    }
   ],
   "source": [
    "n = float(input(\"enter a number: \"))\n",
    "m = float(input(\"enter a number: \"))\n",
    "res1 = pow(m,n)\n",
    "res2 = m**n\n",
    "print( \"m power n using pow : \" + str(res1))\n",
    "print( \"m power n using ** : \" + str(res2))"
   ]
  },
  {
   "cell_type": "code",
   "execution_count": 9,
   "metadata": {},
   "outputs": [
    {
     "name": "stdout",
     "output_type": "stream",
     "text": [
      "enter principal : 1000\n",
      "enter rate : 1\n",
      "enter Term : 2\n",
      "simple interest is :  20.0\n"
     ]
    }
   ],
   "source": [
    "P = float(input(\"enter principal : \"))\n",
    "R = float(input(\"enter rate : \"))\n",
    "T = float(input(\"enter Term : \"))\n",
    "SI = (P * R * T) / 100\n",
    "print(\"simple interest is : \", SI)"
   ]
  },
  {
   "cell_type": "code",
   "execution_count": 12,
   "metadata": {},
   "outputs": [
    {
     "name": "stdout",
     "output_type": "stream",
     "text": [
      "enter principal : 10000\n",
      "enter rate : 10\n",
      "enter Term : 5\n",
      "Amount is : 16105.100000000006\n",
      "Compound Interest is : 6105.100000000006\n"
     ]
    }
   ],
   "source": [
    "P = float(input(\"enter principal : \"))\n",
    "R = float(input(\"enter rate : \"))\n",
    "T = float(input(\"enter Term : \"))\n",
    "A = P * pow((1+(R/100)),T)\n",
    "C = A - P\n",
    "print(\"Amount is : \" + str(A))\n",
    "print(\"Compound Interest is : \" + str(C))"
   ]
  },
  {
   "cell_type": "code",
   "execution_count": 13,
   "metadata": {},
   "outputs": [
    {
     "name": "stdout",
     "output_type": "stream",
     "text": [
      "enter the number : 10\n",
      "sum of first 10 natural numbers is : 55.0\n"
     ]
    }
   ],
   "source": [
    "n = int(input(\"enter the number : \"))\n",
    "sum = (n * (n+1))/2\n",
    "print(f\"sum of first {n} natural numbers is : \" + str(sum))"
   ]
  },
  {
   "cell_type": "code",
   "execution_count": 15,
   "metadata": {},
   "outputs": [
    {
     "name": "stdout",
     "output_type": "stream",
     "text": [
      "enter 1st number : 10\n",
      "enter 2nd number : 20\n",
      "updated value of a : 20.0\n",
      "updated value of b : 10.0\n",
      "updated value of a : 10.0\n",
      "updated value of b : 20.0\n"
     ]
    }
   ],
   "source": [
    "a = float(input(\"enter 1st number : \"))\n",
    "b = float(input(\"enter 2nd number : \"))\n",
    "# temp \n",
    "temp = a\n",
    "a = b\n",
    "b = temp\n",
    "print(\"updated value of a : \" + str(a))\n",
    "print(\"updated value of b : \" + str(b))\n",
    "#pythonic\n",
    "a = a + b\n",
    "b = a - b\n",
    "a = a - b\n",
    "print(\"updated value of a : \" + str(a))\n",
    "print(\"updated value of b : \" + str(b))"
   ]
  },
  {
   "cell_type": "code",
   "execution_count": 23,
   "metadata": {},
   "outputs": [
    {
     "name": "stdout",
     "output_type": "stream",
     "text": [
      "ASCII value of space is : 32\n",
      "ASCII value of Horizontal Tab is : 9\n",
      "ASCII value of New Line is : 10\n",
      "ASCII value of Vertical Tab is : 11\n",
      "ASCII value of feed is : 12\n",
      "ASCII value of Carriage Return is : 13\n"
     ]
    }
   ],
   "source": [
    "w1 = (' ')\n",
    "w2 = ('\\t')\n",
    "w3 = ('\\n')\n",
    "w4 = ('\\v')\n",
    "w5 = ('\\f')\n",
    "w6 = ('\\r')\n",
    "print(f\"\"\"ASCII value of space is : \"\"\" + str(ord(w1)))\n",
    "print(f\"\"\"ASCII value of Horizontal Tab is : \"\"\" + str(ord(w2)))\n",
    "print(f\"\"\"ASCII value of New Line is : \"\"\" + str(ord(w3)))\n",
    "print(f\"\"\"ASCII value of Vertical Tab is : \"\"\" + str(ord(w4)))\n",
    "print(f\"\"\"ASCII value of feed is : \"\"\" + str(ord(w5)))\n",
    "print(f\"\"\"ASCII value of Carriage Return is : \"\"\" + str(ord(w6)))"
   ]
  },
  {
   "cell_type": "code",
   "execution_count": 29,
   "metadata": {},
   "outputs": [
    {
     "name": "stdout",
     "output_type": "stream",
     "text": [
      "Enter a single Character : B\n",
      "66\n"
     ]
    }
   ],
   "source": [
    "a = input(\"Enter a single Character : \")\n",
    "if(len(a) == 1):\n",
    "    print(ord(a))\n",
    "else:\n",
    "    print(\"please enter a single character to get the ASCII value\")"
   ]
  },
  {
   "cell_type": "code",
   "execution_count": 33,
   "metadata": {},
   "outputs": [
    {
     "name": "stdout",
     "output_type": "stream",
     "text": [
      "please enter the area of the circle : 314.159\n",
      "area of the circle is : 314.159\n",
      "radius of the circle is : 10.0\n",
      "circumference of the circle is : 62.8318\n"
     ]
    }
   ],
   "source": [
    "pi = 3.14159\n",
    "a = float(input(\"please enter the area of the circle : \"))\n",
    "r = pow((a/pi),0.5)\n",
    "c = 2 * pi * r\n",
    "print (\"area of the circle is : \" + str(a))\n",
    "print (\"radius of the circle is : \" + str(r))\n",
    "print (\"circumference of the circle is : \" + str(c))"
   ]
  },
  {
   "cell_type": "code",
   "execution_count": 40,
   "metadata": {},
   "outputs": [
    {
     "name": "stdout",
     "output_type": "stream",
     "text": [
      "please enter marks in subject-1 : 50\n",
      "please enter marks in subject-2 : 50\n",
      "please enter marks in subject-3 : 60\n",
      "please enter marks in subject-4 : 60\n",
      "please enter marks in subject-5 : 75\n",
      "percentage obtained by student : 59.0%\n"
     ]
    }
   ],
   "source": [
    "a = float(input(\"please enter marks in subject-1 : \"))\n",
    "b = float(input(\"please enter marks in subject-2 : \"))\n",
    "c = float(input(\"please enter marks in subject-3 : \"))\n",
    "d = float(input(\"please enter marks in subject-4 : \"))\n",
    "e = float(input(\"please enter marks in subject-5 : \"))\n",
    "if(a>100 or a <0 or b>100 or b <0 or c>100 or c <0 or d>100 or d <0 or e>100 or e <0):\n",
    "    print(\"please enter marks correctly. It should be between 0 and 100\")\n",
    "else:\n",
    "    percentage = ((a+b+c+d+e)/500)*100\n",
    "    print(\"percentage obtained by student : \" + str(percentage) + \"%\")"
   ]
  }
 ],
 "metadata": {
  "kernelspec": {
   "display_name": "Python 3",
   "language": "python",
   "name": "python3"
  },
  "language_info": {
   "codemirror_mode": {
    "name": "ipython",
    "version": 3
   },
   "file_extension": ".py",
   "mimetype": "text/x-python",
   "name": "python",
   "nbconvert_exporter": "python",
   "pygments_lexer": "ipython3",
   "version": "3.7.6"
  }
 },
 "nbformat": 4,
 "nbformat_minor": 4
}
