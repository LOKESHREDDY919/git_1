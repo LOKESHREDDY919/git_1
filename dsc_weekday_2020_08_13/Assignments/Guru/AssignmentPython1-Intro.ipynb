{
 "cells": [
  {
   "cell_type": "code",
   "execution_count": 1,
   "metadata": {},
   "outputs": [
    {
     "name": "stdout",
     "output_type": "stream",
     "text": [
      "6 19\n"
     ]
    }
   ],
   "source": [
    "#1 Predict output \n",
    "s1='Gaurav'   # length is 6\n",
    "s2='tuteur.py@gmail.com' # length is 19\n",
    "print(len(s1),len(s2))"
   ]
  },
  {
   "cell_type": "code",
   "execution_count": 4,
   "metadata": {},
   "outputs": [
    {
     "name": "stdout",
     "output_type": "stream",
     "text": [
      "enger your input: hello\n",
      "length of string hello : 5\n"
     ]
    }
   ],
   "source": [
    "#2 WAP (Write a program) to input a string and print its length\n",
    "a=input('enger your input: ')\n",
    "print(f'length of string {a} : '+str(len(a)))"
   ]
  },
  {
   "cell_type": "code",
   "execution_count": 14,
   "metadata": {},
   "outputs": [
    {
     "name": "stdout",
     "output_type": "stream",
     "text": [
      "enter number 1: 8\n",
      "enter number 2: 18\n",
      "the sum of 8 and 18 :26\n",
      "the difference between 8 and 18: -10\n"
     ]
    }
   ],
   "source": [
    "#3 WAP to input 2 numbers and print their sum and difference \n",
    "n1=int(input('enter number 1: '))\n",
    "n2=int(input('enter number 2: '))\n",
    "sum=n1+n2\n",
    "diff=n1-n2\n",
    "print(f'the sum of {n1} and {n2} :'+str(sum))\n",
    "print(f'the difference between {n1} and {n2}: '+str(diff))"
   ]
  },
  {
   "cell_type": "code",
   "execution_count": 15,
   "metadata": {},
   "outputs": [
    {
     "name": "stdout",
     "output_type": "stream",
     "text": [
      "abde\n"
     ]
    }
   ],
   "source": [
    "#4 Predict output\n",
    "s1 = 'ab'\n",
    "s2 = 'de'\n",
    "s3 = s1 + s2\n",
    "print(s3)  # abde"
   ]
  },
  {
   "cell_type": "code",
   "execution_count": null,
   "metadata": {
    "collapsed": true
   },
   "outputs": [],
   "source": [
    "#5 is the same as 4 "
   ]
  },
  {
   "cell_type": "code",
   "execution_count": 16,
   "metadata": {},
   "outputs": [
    {
     "name": "stdout",
     "output_type": "stream",
     "text": [
      "abababab\n"
     ]
    }
   ],
   "source": [
    "#6 Predict output\n",
    "s1 = 'ab'*4 \n",
    "print(s1) # type error? - no, ans : abababab "
   ]
  },
  {
   "cell_type": "code",
   "execution_count": 18,
   "metadata": {},
   "outputs": [
    {
     "name": "stdout",
     "output_type": "stream",
     "text": [
      "ab\n",
      "ab\n",
      "ab\n",
      "ab\n",
      "\n"
     ]
    }
   ],
   "source": [
    "#7 predict output\n",
    "s1 = 'ab\\n'*4\n",
    "print(s1) # prints ab in 4 lines with empty 5th line "
   ]
  },
  {
   "cell_type": "code",
   "execution_count": 8,
   "metadata": {},
   "outputs": [
    {
     "name": "stdout",
     "output_type": "stream",
     "text": [
      "Enter a string: hi\n",
      "Enter a number: 4\n",
      "hi\n",
      "hi\n",
      "hi\n",
      "hi\n",
      "\n"
     ]
    }
   ],
   "source": [
    "#8 WAP to input a string s and a number n. Print the string n times on the screen. each should appear in a separate \n",
    "#line (do not use any kind of loops, use the mulitiplication operator )\n",
    "string=input('Enter a string: ') # input function reads input as string\n",
    "string=string+'\\n'\n",
    "number=int(input('Enter a number: '))\n",
    "print(string*number)"
   ]
  },
  {
   "cell_type": "code",
   "execution_count": 11,
   "metadata": {},
   "outputs": [
    {
     "name": "stdout",
     "output_type": "stream",
     "text": [
      "Gaurav\n",
      "None\n"
     ]
    }
   ],
   "source": [
    "#9 Predict output\n",
    "res = print('Gaurav')\n",
    "print(res) # should it print name 2 times ? : No. first one prints the name. second one prints None. why? "
   ]
  },
  {
   "cell_type": "code",
   "execution_count": 17,
   "metadata": {},
   "outputs": [
    {
     "name": "stdout",
     "output_type": "stream",
     "text": [
      "<class 'int'>\n"
     ]
    }
   ],
   "source": [
    "#10 Predict output\n",
    "res = len('tuteur.py@gmail.com')\n",
    "print(type(res)) # int? : yes. "
   ]
  },
  {
   "cell_type": "code",
   "execution_count": 12,
   "metadata": {},
   "outputs": [
    {
     "name": "stdout",
     "output_type": "stream",
     "text": [
      "<class 'str'>\n",
      "26\n"
     ]
    }
   ],
   "source": [
    "#11 Predict output\n",
    "s1 = 'Gaurav'\n",
    "s2 = 'tuteur.py@gmail.com'\n",
    "s3 = s1 + '\\n' + s2 \n",
    "print(type(s3)) # type of s3 is string\n",
    "print(len(s3))  # sum of length of s1 (6), new line (1) and s2(19) "
   ]
  },
  {
   "cell_type": "code",
   "execution_count": 16,
   "metadata": {},
   "outputs": [
    {
     "name": "stdout",
     "output_type": "stream",
     "text": [
      "['In', 'Out', '_', '__', '___', '__builtin__', '__builtins__', '__doc__', '__loader__', '__name__', '__package__', '__spec__', '_dh', '_i', '_i1', '_i10', '_i11', '_i12', '_i13', '_i14', '_i15', '_i16', '_i2', '_i3', '_i4', '_i5', '_i6', '_i7', '_i8', '_i9', '_ih', '_ii', '_iii', '_oh', 'exit', 'get_ipython', 'math', 'number', 'quit', 'res', 's1', 's2', 's3', 'string']\n",
      "['In', 'Out', '_', '__', '___', '__builtin__', '__builtins__', '__doc__', '__loader__', '__name__', '__package__', '__spec__', '_dh', '_i', '_i1', '_i10', '_i11', '_i12', '_i13', '_i14', '_i15', '_i16', '_i2', '_i3', '_i4', '_i5', '_i6', '_i7', '_i8', '_i9', '_ih', '_ii', '_iii', '_oh', 'exit', 'get_ipython', 'math', 'number', 'quit', 'res', 's1', 's2', 's3', 'string']\n",
      "['__doc__', '__loader__', '__name__', '__package__', '__spec__', 'acos', 'acosh', 'asin', 'asinh', 'atan', 'atan2', 'atanh', 'ceil', 'copysign', 'cos', 'cosh', 'degrees', 'e', 'erf', 'erfc', 'exp', 'expm1', 'fabs', 'factorial', 'floor', 'fmod', 'frexp', 'fsum', 'gamma', 'gcd', 'hypot', 'inf', 'isclose', 'isfinite', 'isinf', 'isnan', 'ldexp', 'lgamma', 'log', 'log10', 'log1p', 'log2', 'modf', 'nan', 'pi', 'pow', 'radians', 'sin', 'sinh', 'sqrt', 'tan', 'tanh', 'tau', 'trunc']\n"
     ]
    }
   ],
   "source": [
    "#12 find the name of function to find  the square root. ( see all the options available in dir() of math)\n",
    "print(dir())\n",
    "# ['In', 'Out', '_', '__', '___', '__builtin__', '__builtins__', '__doc__', '__loader__', '__name__', \n",
    "#  '__package__', '__spec__', '_dh', '_i', '_i1', '_i10', '_i11', '_i12', '_i13', '_i14', '_i2', '_i3', '_i4', '_i5', \n",
    "#  '_i6', '_i7', '_i8', '_i9', '_ih', '_ii', '_iii', '_oh', 'exit', 'get_ipython', 'number', \n",
    "#  'quit', 'res', 's1', 's2', 's3', 'string']\n",
    "import math\n",
    "print(dir())\n",
    "# ['In', 'Out', '_', '__', '___', '__builtin__', '__builtins__', '__doc__', '__loader__', \n",
    "#  '__name__', '__package__', '__spec__', '_dh', '_i', '_i1', '_i10', '_i11', '_i12', '_i13', '_i14', '_i2',\n",
    "#  '_i3', '_i4', '_i5', '_i6', '_i7', '_i8', '_i9', '_ih', '_ii', '_iii', '_oh', 'exit', \n",
    "#  'get_ipython', 'math', 'number', 'quit', 'res', 's1', 's2', 's3', 'string']\n",
    "print(dir(math))\n",
    "# ['__doc__', '__loader__', '__name__', '__package__', '__spec__', 'acos', 'acosh', 'asin', \n",
    "#  'asinh', 'atan', 'atan2', 'atanh', 'ceil', 'copysign', 'cos', 'cosh', 'degrees', 'e', 'erf', \n",
    "#  'erfc', 'exp', 'expm1', 'fabs', 'factorial', 'floor', 'fmod', 'frexp', 'fsum',\n",
    "#  'gamma', 'gcd', 'hypot', 'inf', 'isclose', 'isfinite', 'isinf', 'isnan', 'ldexp', 'lgamma', \n",
    "#  'log', 'log10', 'log1p', 'log2', 'modf', 'nan', 'pi', 'pow', 'radians', \n",
    "#  'sin', 'sinh', 'sqrt', 'tan', 'tanh', 'tau', 'trunc']\n",
    "#ANs: function --> math.sqrt()"
   ]
  },
  {
   "cell_type": "code",
   "execution_count": 18,
   "metadata": {},
   "outputs": [
    {
     "name": "stdout",
     "output_type": "stream",
     "text": [
      "Enter a number: 16\n",
      "The square root of 16 is: 4.0\n"
     ]
    }
   ],
   "source": [
    "#13 WAP to input a number and print its square root()\n",
    "from math import sqrt  # need to import sqrt function from the module math \n",
    "num=int(input('Enter a number: '))\n",
    "square_root=sqrt(num)\n",
    "print(f'The square root of {num} is: ' +str(square_root))"
   ]
  },
  {
   "cell_type": "code",
   "execution_count": 20,
   "metadata": {},
   "outputs": [
    {
     "name": "stdout",
     "output_type": "stream",
     "text": [
      "Enter a number: 5\n",
      "Enter a number: 8\n",
      "Enter a number: 10\n",
      "Enter a number: 15\n",
      "The average of 4 numbers: 12.666666666666666\n"
     ]
    }
   ],
   "source": [
    "#14 WAP to input 4 numbers from user and print their avarage \n",
    "sum = 0\n",
    "for num in range(4):\n",
    "    number = float(input('Enter a number: '))\n",
    "    sum += number \n",
    "print(f'The average of 4 numbers: ' +str(sum/num))    "
   ]
  },
  {
   "cell_type": "code",
   "execution_count": 24,
   "metadata": {},
   "outputs": [
    {
     "name": "stdout",
     "output_type": "stream",
     "text": [
      "Help on built-in function abs in module builtins:\n",
      "\n",
      "abs(x, /)\n",
      "    Return the absolute value of the argument.\n",
      "\n"
     ]
    }
   ],
   "source": [
    "#15 use the help function to check what the abs function in python does \n",
    "help(abs)"
   ]
  },
  {
   "cell_type": "code",
   "execution_count": null,
   "metadata": {
    "collapsed": true
   },
   "outputs": [],
   "source": [
    "#16 output of code print(__name__) when run from python interpreter \n",
    "# >python\n",
    "# Python 3.8.3 (default, Jul  2 2020, 17:30:36) [MSC v.1916 64 bit (AMD64)] :: Anaconda, Inc. on win32\n",
    "# Type \"help\", \"copyright\", \"credits\" or \"license\" for more information.\n",
    "# >>>\n",
    "# >>> print(__name__)\n",
    "# __main__"
   ]
  },
  {
   "cell_type": "code",
   "execution_count": 26,
   "metadata": {},
   "outputs": [],
   "source": [
    "#17 what is the output of print(__name__) when run from a python script\n",
    "# type 1.py\n",
    "# print(__name__)\n",
    "# >python 1.py\n",
    "# __main__"
   ]
  },
  {
   "cell_type": "code",
   "execution_count": 28,
   "metadata": {},
   "outputs": [
    {
     "name": "stdout",
     "output_type": "stream",
     "text": [
      "['__abs__', '__add__', '__and__', '__bool__', '__ceil__', '__class__', '__delattr__', '__dir__', '__divmod__', '__doc__', '__eq__', '__float__', '__floor__', '__floordiv__', '__format__', '__ge__', '__getattribute__', '__getnewargs__', '__gt__', '__hash__', '__index__', '__init__', '__init_subclass__', '__int__', '__invert__', '__le__', '__lshift__', '__lt__', '__mod__', '__mul__', '__ne__', '__neg__', '__new__', '__or__', '__pos__', '__pow__', '__radd__', '__rand__', '__rdivmod__', '__reduce__', '__reduce_ex__', '__repr__', '__rfloordiv__', '__rlshift__', '__rmod__', '__rmul__', '__ror__', '__round__', '__rpow__', '__rrshift__', '__rshift__', '__rsub__', '__rtruediv__', '__rxor__', '__setattr__', '__sizeof__', '__str__', '__sub__', '__subclasshook__', '__truediv__', '__trunc__', '__xor__', 'bit_length', 'conjugate', 'denominator', 'from_bytes', 'imag', 'numerator', 'real', 'to_bytes']\n"
     ]
    }
   ],
   "source": [
    "#18 does the dir of int class contain an attribute __name__ (Y/N)\n",
    "print(dir(int))\n",
    "#Ans: No"
   ]
  },
  {
   "cell_type": "code",
   "execution_count": 31,
   "metadata": {},
   "outputs": [
    {
     "name": "stdout",
     "output_type": "stream",
     "text": [
      "__main__\n",
      "builtins\n",
      "int\n"
     ]
    }
   ],
   "source": [
    "#19 Predict the output of print(__name__), print(__builtins__.__name__), print(int.__name__)\n",
    "print(__name__)\n",
    "print(__builtins__.__name__)\n",
    "print(int.__name__)"
   ]
  }
 ],
 "metadata": {
  "kernelspec": {
   "display_name": "Python 3",
   "language": "python",
   "name": "python3"
  },
  "language_info": {
   "codemirror_mode": {
    "name": "ipython",
    "version": 3
   },
   "file_extension": ".py",
   "mimetype": "text/x-python",
   "name": "python",
   "nbconvert_exporter": "python",
   "pygments_lexer": "ipython3",
   "version": "3.6.3"
  }
 },
 "nbformat": 4,
 "nbformat_minor": 2
}
