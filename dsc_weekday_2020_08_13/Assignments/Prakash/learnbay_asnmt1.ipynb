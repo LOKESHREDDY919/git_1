{
 "cells": [
  {
   "cell_type": "code",
   "execution_count": 2,
   "metadata": {},
   "outputs": [
    {
     "name": "stdout",
     "output_type": "stream",
     "text": [
      "6 19\n"
     ]
    }
   ],
   "source": [
    "# Assignment 1, Q1 #\n",
    "s1='Gaurav'\n",
    "s2='tuteur.py@gmail.com'\n",
    "print (len(s1), len(s2))"
   ]
  },
  {
   "cell_type": "code",
   "execution_count": 4,
   "metadata": {},
   "outputs": [
    {
     "name": "stdout",
     "output_type": "stream",
     "text": [
      "Name  : Prakash Kumar\n",
      "Prakash Kumar 13\n"
     ]
    }
   ],
   "source": [
    "# Assignment 1, Q2 #\n",
    "x=input(\"Name  : \")\n",
    "print(x, len(x))"
   ]
  },
  {
   "cell_type": "code",
   "execution_count": 1,
   "metadata": {},
   "outputs": [
    {
     "name": "stdout",
     "output_type": "stream",
     "text": [
      "Number A : 30\n",
      "Number B : 18\n",
      "Sum of the Numbers :  48   Difference of the Numbers :  12\n"
     ]
    }
   ],
   "source": [
    "# Assignment 1, Q3 #\n",
    "x=int(input(\"Number A : \"))\n",
    "y=int(input(\"Number B : \"))\n",
    "z= x+y\n",
    "k= x-y\n",
    "print(\"Sum of the Numbers : \", z, \"  Difference of the Numbers : \", k)"
   ]
  },
  {
   "cell_type": "code",
   "execution_count": 2,
   "metadata": {},
   "outputs": [
    {
     "name": "stdout",
     "output_type": "stream",
     "text": [
      "abde\n"
     ]
    }
   ],
   "source": [
    "# Assignment 1, Q4 #\n",
    "s1 = 'ab'\n",
    "s2 = 'de'\n",
    "s3 = s1+s2\n",
    "print (s3)"
   ]
  },
  {
   "cell_type": "code",
   "execution_count": 4,
   "metadata": {},
   "outputs": [
    {
     "name": "stdout",
     "output_type": "stream",
     "text": [
      "abde\n"
     ]
    }
   ],
   "source": [
    "# Assignment 1, Q5 #\n",
    "s1 = 'ab'\n",
    "s2 = 'de'\n",
    "s3 = s1+s2\n",
    "print (s3)"
   ]
  },
  {
   "cell_type": "code",
   "execution_count": 5,
   "metadata": {},
   "outputs": [
    {
     "name": "stdout",
     "output_type": "stream",
     "text": [
      "abababab\n"
     ]
    }
   ],
   "source": [
    "# Assignment 1, Q6 #\n",
    "x = 'ab'\n",
    "y = 4\n",
    "z = x*y\n",
    "print (z)"
   ]
  },
  {
   "cell_type": "code",
   "execution_count": 7,
   "metadata": {},
   "outputs": [
    {
     "name": "stdout",
     "output_type": "stream",
     "text": [
      "abababab\n"
     ]
    }
   ],
   "source": [
    "# Assignment 1, Q6 #\n",
    "s1 = 'ab'*4\n",
    "print (s1)"
   ]
  },
  {
   "cell_type": "code",
   "execution_count": 8,
   "metadata": {},
   "outputs": [
    {
     "name": "stdout",
     "output_type": "stream",
     "text": [
      "ab\n",
      "ab\n",
      "ab\n",
      "ab\n",
      "\n"
     ]
    }
   ],
   "source": [
    "# Assignment 1, Q7 #\n",
    "print ('ab\\n'*4)"
   ]
  },
  {
   "cell_type": "code",
   "execution_count": 1,
   "metadata": {
    "scrolled": true
   },
   "outputs": [
    {
     "name": "stdout",
     "output_type": "stream",
     "text": [
      "String Name : Prakash\n",
      "Number : 5\n",
      "Prakash\n",
      "Prakash\n",
      "Prakash\n",
      "Prakash\n",
      "Prakash\n",
      "\n"
     ]
    }
   ],
   "source": [
    "# Assignment 1, Q8 #\n",
    "s = input('String Name : ')\n",
    "s =   s + '\\n'\n",
    "n = int(input('Number : '))\n",
    "print (s*n)     "
   ]
  },
  {
   "cell_type": "code",
   "execution_count": 4,
   "metadata": {},
   "outputs": [
    {
     "name": "stdout",
     "output_type": "stream",
     "text": [
      "Enter a string:Prakash\n",
      "Enter a number:3\n",
      "Prakash\n",
      "Prakash\n",
      "Prakash\n",
      "\n"
     ]
    }
   ],
   "source": [
    "s=input(\"Enter a string:\")\n",
    "n=int(input(\"Enter a number:\"))\n",
    "y=(s + '\\n' )*n\n",
    "print(y)"
   ]
  },
  {
   "cell_type": "code",
   "execution_count": 5,
   "metadata": {},
   "outputs": [
    {
     "name": "stdout",
     "output_type": "stream",
     "text": [
      "Gaurav\n",
      "None\n"
     ]
    }
   ],
   "source": [
    "# Assignment 1, Q9 #\n",
    "res = print('Gaurav')\n",
    "print (res)"
   ]
  },
  {
   "cell_type": "code",
   "execution_count": 17,
   "metadata": {},
   "outputs": [
    {
     "name": "stdout",
     "output_type": "stream",
     "text": [
      "<class 'int'>\n"
     ]
    }
   ],
   "source": [
    "# Assignment 1, Q10 #\n",
    "res=len('tuteur.py@gmail.com')\n",
    "print(type(res))"
   ]
  },
  {
   "cell_type": "code",
   "execution_count": 20,
   "metadata": {},
   "outputs": [
    {
     "name": "stdout",
     "output_type": "stream",
     "text": [
      "Gaurav\n",
      "tuteur.py@gmail.com\n",
      "26\n",
      "<class 'str'>\n"
     ]
    }
   ],
   "source": [
    "# Assignment 1, Q11 #\n",
    "s1 = 'Gaurav'\n",
    "s2 = 'tuteur.py@gmail.com'\n",
    "s3 = s1 + '\\n' + s2\n",
    "print (s3)\n",
    "print(len(s3))\n",
    "print(type(s3))"
   ]
  },
  {
   "cell_type": "code",
   "execution_count": 31,
   "metadata": {},
   "outputs": [
    {
     "name": "stdout",
     "output_type": "stream",
     "text": [
      "5.0\n"
     ]
    }
   ],
   "source": [
    "# Assignment 1, Q12 #\n",
    "import math\n",
    "print (math.sqrt(25))"
   ]
  },
  {
   "cell_type": "code",
   "execution_count": 36,
   "metadata": {},
   "outputs": [
    {
     "name": "stdout",
     "output_type": "stream",
     "text": [
      "5.0\n"
     ]
    }
   ],
   "source": [
    "# Assignment 1, Q12 #\n",
    "print (pow(25,.5))"
   ]
  },
  {
   "cell_type": "code",
   "execution_count": 3,
   "metadata": {},
   "outputs": [
    {
     "name": "stdout",
     "output_type": "stream",
     "text": [
      "Enter a number : 90\n",
      "9.486832980505138\n"
     ]
    }
   ],
   "source": [
    "# Assignment 1, Q13 #\n",
    "import math\n",
    "x = int(input ('Enter a number : ' ))\n",
    "print (math.sqrt(x))\n"
   ]
  },
  {
   "cell_type": "code",
   "execution_count": 10,
   "metadata": {},
   "outputs": [
    {
     "name": "stdout",
     "output_type": "stream",
     "text": [
      "Input value for a : 15\n",
      "Input value for b : 20\n",
      "Input value for c : 25\n",
      "Input value for d : 30\n",
      "[15, 20, 25, 30]\n",
      "Average of the enterd number is   22.5\n"
     ]
    }
   ],
   "source": [
    "# Assignment 1, Q15 #\n",
    "a = int(input('Input value for a : '))\n",
    "b = int(input('Input value for b : '))\n",
    "c = int(input('Input value for c : '))\n",
    "d = int(input('Input value for d : '))\n",
    "list = [a, b, c, d]\n",
    "print (list)\n",
    "def Average(list): \n",
    "    return sum(list) / len(list)\n",
    "print ('Average of the enterd number is  ', Average(list))\n"
   ]
  },
  {
   "cell_type": "code",
   "execution_count": null,
   "metadata": {},
   "outputs": [],
   "source": [
    "# Assignment 1, Q15 #\n",
    "abs(x, /)\n",
    "    Return the absolute value of the argument.\n"
   ]
  },
  {
   "cell_type": "code",
   "execution_count": null,
   "metadata": {},
   "outputs": [],
   "source": [
    "# Assignment 1, Q15 #\n",
    " print(__name__)\n",
    "__main__\n"
   ]
  },
  {
   "cell_type": "code",
   "execution_count": 12,
   "metadata": {},
   "outputs": [
    {
     "name": "stdout",
     "output_type": "stream",
     "text": [
      "__main__\n"
     ]
    }
   ],
   "source": [
    "# Assignment 1, Q16 #\n",
    "print(__name__)\n"
   ]
  },
  {
   "cell_type": "code",
   "execution_count": null,
   "metadata": {},
   "outputs": [],
   "source": [
    "# Assignment 1, Q17 #\n",
    "no"
   ]
  },
  {
   "cell_type": "code",
   "execution_count": 14,
   "metadata": {},
   "outputs": [
    {
     "name": "stdout",
     "output_type": "stream",
     "text": [
      "builtins\n",
      "int\n"
     ]
    }
   ],
   "source": [
    "# Assignment 1, Q18 #\n",
    "#__main__\n",
    "print (__builtin__.__name__)\n",
    "print (int.__name__)\n"
   ]
  },
  {
   "cell_type": "code",
   "execution_count": null,
   "metadata": {},
   "outputs": [],
   "source": []
  }
 ],
 "metadata": {
  "kernelspec": {
   "display_name": "Python 3",
   "language": "python",
   "name": "python3"
  },
  "language_info": {
   "codemirror_mode": {
    "name": "ipython",
    "version": 3
   },
   "file_extension": ".py",
   "mimetype": "text/x-python",
   "name": "python",
   "nbconvert_exporter": "python",
   "pygments_lexer": "ipython3",
   "version": "3.8.3"
  }
 },
 "nbformat": 4,
 "nbformat_minor": 4
}
