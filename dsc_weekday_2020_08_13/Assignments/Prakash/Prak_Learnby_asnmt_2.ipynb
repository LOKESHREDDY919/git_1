{
 "cells": [
  {
   "cell_type": "code",
   "execution_count": 1,
   "metadata": {},
   "outputs": [
    {
     "name": "stdout",
     "output_type": "stream",
     "text": [
      "Temperature in Fahrenheit : 98\n",
      "Temperature in Celsius is :  36.666666666666664 Degree\n"
     ]
    }
   ],
   "source": [
    "# Assignment 2 Q1#\n",
    "f = int(input('Temperature in Fahrenheit : '))\n",
    "y = (f-32)*5/9\n",
    "print ('Temperature in Celsius is : ', y, 'Degree')"
   ]
  },
  {
   "cell_type": "code",
   "execution_count": 4,
   "metadata": {},
   "outputs": [
    {
     "name": "stdout",
     "output_type": "stream",
     "text": [
      "Please Input Number A : 5\n",
      "Please Input Number B : 8\n",
      "Square of A is :  25    Cube of B is :  125\n"
     ]
    }
   ],
   "source": [
    "# Assignment 2 Q2#\n",
    "x = int(input('Please Input Number A : '))\n",
    "y = int(input('Please Input Number B : '))\n",
    "a = x**2\n",
    "b = x**3\n",
    "print ('Square of A is : ', a, '  ', 'Cube of B is : ', b)"
   ]
  },
  {
   "cell_type": "code",
   "execution_count": 5,
   "metadata": {},
   "outputs": [
    {
     "name": "stdout",
     "output_type": "stream",
     "text": [
      "Please input n :  6\n",
      "Please input m :  8\n",
      "100\n"
     ]
    }
   ],
   "source": [
    "# Assignment 2 Q3#\n",
    "n = int(input('Please input n :  '))\n",
    "m = int(input('Please input m :  '))\n",
    "k = n**2 + m**2\n",
    "print (k)"
   ]
  },
  {
   "cell_type": "code",
   "execution_count": 8,
   "metadata": {},
   "outputs": [
    {
     "name": "stdout",
     "output_type": "stream",
     "text": [
      "Please input M :  5\n",
      "Please input N :  4\n",
      "625   625\n",
      "625   625\n"
     ]
    }
   ],
   "source": [
    "# Assignment 2 Q4#\n",
    "M = int(input('Please input M :  '))\n",
    "N = int(input('Please input N :  '))\n",
    "k = M**N\n",
    "l = pow(M,N)\n",
    "print (k, ' ', l)\n",
    "print ((M**N), ' ', (pow(M, N)))"
   ]
  },
  {
   "cell_type": "code",
   "execution_count": 24,
   "metadata": {},
   "outputs": [
    {
     "name": "stdout",
     "output_type": "stream",
     "text": [
      "Please enter the Principple Amount :  20000\n",
      "Please enter the Rate of Interest (annual) :  12\n",
      "Please enter the Time Period in Year : 6\n",
      "The interest amount for  Rs 20000 for  12 percent annual interest and for  6 years will be :   14400.0\n"
     ]
    }
   ],
   "source": [
    "# Assignment 2 Q5#\n",
    "P = int(input('Please enter the Principple Amount :  '))\n",
    "r = int(input('Please enter the Rate of Interest (annual) :  '))\n",
    "t = int(input('Please enter the Time Period in Year : '))\n",
    "Interest = P*r/100*t\n",
    "print ('The interest amount for ', 'Rs', P, 'for ', r, \n",
    "       'percent annual interest and for ', t, \n",
    "       'years will be :  ', Interest)"
   ]
  },
  {
   "cell_type": "code",
   "execution_count": 9,
   "metadata": {},
   "outputs": [
    {
     "name": "stdout",
     "output_type": "stream",
     "text": [
      "Please enter the Principple Amount :  20000\n",
      "Please enter the Rate of Interest (annual) :  12\n",
      "Please enter the Time Period in Year : 6\n",
      "The compound interest amount for  Rs 20000 for  12 percent annual interest and for  6 years will be :   19476.453703680025\n",
      "And the amount at the end of  6 years will be :   39476.453703680025\n"
     ]
    }
   ],
   "source": [
    "# Assignment 2 Q6#\n",
    "  "
   ]
  },
  {
   "cell_type": "code",
   "execution_count": 10,
   "metadata": {},
   "outputs": [
    {
     "name": "stdout",
     "output_type": "stream",
     "text": [
      "Please input a number :  5\n",
      "15.0\n"
     ]
    }
   ],
   "source": [
    "# Assignment 2 Q7#\n",
    "n = int(input('Please input a number :  '))\n",
    "y = n*(n+1)/2\n",
    "print (y)"
   ]
  },
  {
   "cell_type": "code",
   "execution_count": 12,
   "metadata": {},
   "outputs": [
    {
     "name": "stdout",
     "output_type": "stream",
     "text": [
      "Please input number A:  6\n",
      "Please input number B:  8\n",
      "Value of A is :  8 and Value of B is : \n"
     ]
    }
   ],
   "source": [
    "# Assignment 2 Q8#\n",
    "a = int(input('Please input number A:  '))\n",
    "b = int(input('Please input number B:  '))\n",
    "print ('Value of A is : ', b, 'and Value of B is : ')"
   ]
  },
  {
   "cell_type": "code",
   "execution_count": 14,
   "metadata": {},
   "outputs": [
    {
     "name": "stdout",
     "output_type": "stream",
     "text": [
      "Please input number A:  5\n",
      "Please input number B:  8\n",
      "Value of A is :  5 and Value of B is : \n"
     ]
    }
   ],
   "source": [
    "# Assignment 2 Q8#\n",
    "a = int(input('Please input number A:  '))\n",
    "b = int(input('Please input number B:  '))\n",
    "temp = a\n",
    "a = b\n",
    "b = temp\n",
    "print ('Value of A is : ', b, 'and Value of B is : ')"
   ]
  },
  {
   "cell_type": "code",
   "execution_count": 16,
   "metadata": {},
   "outputs": [
    {
     "name": "stdout",
     "output_type": "stream",
     "text": [
      "32\n"
     ]
    }
   ],
   "source": [
    "# Assignment 2 Q9#\n",
    "print(ord (' '))"
   ]
  },
  {
   "cell_type": "code",
   "execution_count": 19,
   "metadata": {},
   "outputs": [
    {
     "name": "stdout",
     "output_type": "stream",
     "text": [
      "Please any character:  K\n",
      "75\n"
     ]
    }
   ],
   "source": [
    "# Assignment 2 Q10#\n",
    "a = input('Please any character:  ')\n",
    "print(ord (a))"
   ]
  },
  {
   "cell_type": "code",
   "execution_count": 23,
   "metadata": {},
   "outputs": [
    {
     "name": "stdout",
     "output_type": "stream",
     "text": [
      "Please enter the area of a circle in CMs:  100\n",
      "Radius is 5.641895835477563 and Diameter is  35.449077018110316 cms\n"
     ]
    }
   ],
   "source": [
    "# Assignment 2 Q11#\n",
    "import math\n",
    "PI = math.pi\n",
    "A = int(input('Please enter the area of a circle in CMs:  '))\n",
    "r = (A/PI)**.5\n",
    "d = 2*PI*r\n",
    "print ('Radius is', r, 'and Diameter is ', d, 'cms')"
   ]
  },
  {
   "cell_type": "code",
   "execution_count": 2,
   "metadata": {},
   "outputs": [
    {
     "name": "stdout",
     "output_type": "stream",
     "text": [
      "Marks in Subject A out of 100:  60\n",
      "Marks in Subject B out of 100:  70\n",
      "Marks in Subject C out of 100:  80\n",
      "Marks in Subject D out of 100:  95\n",
      "Marks in Subject E out of 100:  87\n",
      "Overall Marks  78.4  %\n"
     ]
    }
   ],
   "source": [
    "# Assignment 2 Q12#\n",
    "import math \n",
    "A = int(input('Marks in Subject A out of 100:  '))\n",
    "B = int(input('Marks in Subject B out of 100:  '))\n",
    "C = int(input('Marks in Subject C out of 100:  '))\n",
    "D = int(input('Marks in Subject D out of 100:  '))\n",
    "E = int(input('Marks in Subject E out of 100:  '))\n",
    "\n",
    "y = (A+B+C+D+E)/500*100\n",
    "\n",
    "print ('Overall Marks ', round(y,2), ' %')"
   ]
  },
  {
   "cell_type": "code",
   "execution_count": 1,
   "metadata": {},
   "outputs": [
    {
     "data": {
      "text/plain": [
       "89.4"
      ]
     },
     "execution_count": 1,
     "metadata": {},
     "output_type": "execute_result"
    }
   ],
   "source": [
    "import math\n",
    "round(89.39383, 1)\n"
   ]
  },
  {
   "cell_type": "code",
   "execution_count": null,
   "metadata": {},
   "outputs": [],
   "source": []
  }
 ],
 "metadata": {
  "kernelspec": {
   "display_name": "Python 3",
   "language": "python",
   "name": "python3"
  },
  "language_info": {
   "codemirror_mode": {
    "name": "ipython",
    "version": 3
   },
   "file_extension": ".py",
   "mimetype": "text/x-python",
   "name": "python",
   "nbconvert_exporter": "python",
   "pygments_lexer": "ipython3",
   "version": "3.8.3"
  }
 },
 "nbformat": 4,
 "nbformat_minor": 4
}
