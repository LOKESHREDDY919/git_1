{
 "cells": [
  {
   "cell_type": "raw",
   "metadata": {},
   "source": []
  },
  {
   "cell_type": "code",
   "execution_count": 1,
   "metadata": {},
   "outputs": [
    {
     "name": "stdout",
     "output_type": "stream",
     "text": [
      "Enter the Temperature in Farenhite: 35\n",
      " 35.00 Farenhite is equal to 1.67 Celcius\n"
     ]
    }
   ],
   "source": [
    "# input temperature in farenhite and print in celcius\n",
    "\n",
    "temp_farenhite=float(input(\"Enter the Temperature in Farenhite: \"))\n",
    "temp_celcius=(temp_farenhite-32)/1.8\n",
    "print(\" %0.2f Farenhite is equal to %0.2f Celcius\" %(temp_farenhite,temp_celcius))"
   ]
  },
  {
   "cell_type": "code",
   "execution_count": 15,
   "metadata": {},
   "outputs": [
    {
     "name": "stdout",
     "output_type": "stream",
     "text": [
      "Enter any Number: 0.6\n",
      "Cube of 0.60 is: 0.22 \n",
      "Cube of 0.60 is: 0.36 \n"
     ]
    }
   ],
   "source": [
    "#WAP TO INPUT A NUMBER AND PRINT ITS SQUARE AND CUBE\n",
    "\n",
    "x= float(input('Enter any Number: '))\n",
    "square= pow(x,2)\n",
    "cube= pow(x,3)\n",
    "print(\"Cube of %.2f is: %.2f \" %(x,cube)) \n",
    "print(\"Cube of %.2f is: %.2f \" %(x,square))"
   ]
  },
  {
   "cell_type": "code",
   "execution_count": 18,
   "metadata": {},
   "outputs": [
    {
     "name": "stdout",
     "output_type": "stream",
     "text": [
      "n: 16\n",
      "m: 16\n",
      "The answer is:  512\n"
     ]
    }
   ],
   "source": [
    "#WAP to input a number n and a number m and print the result of following \n",
    "n2 + m2 \n",
    "\n",
    "n= int(input('n: '))\n",
    "m= int(input('m: '))\n",
    "answer= n**2 + m**2\n",
    "print (\"The answer is: \", answer)"
   ]
  },
  {
   "cell_type": "code",
   "execution_count": 21,
   "metadata": {},
   "outputs": [
    {
     "name": "stdout",
     "output_type": "stream",
     "text": [
      "M: 6\n",
      "N: 3\n",
      "216\n",
      "216\n"
     ]
    }
   ],
   "source": [
    "#WAP to input a numbers M and N and print result of M^N (use both ** and pow)\n",
    "\n",
    "\n",
    "M= int(input('M: '))\n",
    "N= int(input('N: '))\n",
    "print (pow(M,N))\n",
    "print(M**N)"
   ]
  },
  {
   "cell_type": "code",
   "execution_count": 22,
   "metadata": {},
   "outputs": [
    {
     "name": "stdout",
     "output_type": "stream",
     "text": [
      "Simple Intrest is: 189.0\n"
     ]
    }
   ],
   "source": [
    "#P is the principal amount\n",
    "#T is the time and\n",
    "#R is the rate\n",
    "#simple intrest= (P*T*R)/100\n",
    "\n",
    "P=1000\n",
    "R=3\n",
    "T=6.3\n",
    "simple_intrest=(P*R*T)/100\n",
    "print('Simple Intrest is:', simple_intrest)"
   ]
  },
  {
   "cell_type": "code",
   "execution_count": 28,
   "metadata": {},
   "outputs": [
    {
     "name": "stdout",
     "output_type": "stream",
     "text": [
      "Enter principle Amount: 2700\n",
      "Enter rate of intrest: 6.3\n",
      "Enter time in years: 10\n",
      "The Amount is:  4973.892668342033\n",
      "The Compound Intrest Is:  2273.892668342033\n"
     ]
    }
   ],
   "source": [
    "#Input Principal, Rate, Time and print Compound Interest and Amount. \n",
    "Principle=int(input(\"Enter principle Amount: \"))\n",
    "R=float(input(\"Enter rate of intrest: \"))\n",
    "T= float(input(\"Enter time in years: \"))\n",
    "\n",
    "Amount = Principle*((1+R/100)**T)\n",
    "print(\"The Amount is: \" , Amount)\n",
    "compound_intrest= Amount-Principle\n",
    "print('The Compound Intrest Is: ', compound_intrest)"
   ]
  },
  {
   "cell_type": "code",
   "execution_count": 33,
   "metadata": {},
   "outputs": [
    {
     "name": "stdout",
     "output_type": "stream",
     "text": [
      "Input the value of n: 10\n",
      "55.0\n"
     ]
    }
   ],
   "source": [
    "#WAP to print sum of first n natural numbers. (n needs to be taken as input). \n",
    "\n",
    "num=int (input(\"Input the value of n: \"))\n",
    "Sum= num*(num+1)*0.5\n",
    "print(Sum)"
   ]
  },
  {
   "cell_type": "code",
   "execution_count": 1,
   "metadata": {},
   "outputs": [
    {
     "name": "stdout",
     "output_type": "stream",
     "text": [
      "num1: 66\n",
      "num2: 55\n",
      "num1 = 55\n",
      "num2 = 66\n",
      "x=40\n",
      "y=50\n",
      "x = 50\n",
      "y = 40\n"
     ]
    }
   ],
   "source": [
    "#WAP to input 2 numbers and swap them. (write using both normal logic with temp variable and also the pythonic way). \n",
    "num1=int(input ('num1: '))\n",
    "num2=int(input ('num2: '))\n",
    "num3=num1\n",
    "num1=num2\n",
    "num2=num3\n",
    "print('num1 =', num1 )\n",
    "print('num2 =', num2 )\n",
    "\n",
    "\n",
    "\n",
    "x = int(input('x='))\n",
    "y = int(input('y='))\n",
    "x, y = y, x\n",
    "print(\"x =\", x)\n",
    "print(\"y =\", y)\n",
    "\n"
   ]
  },
  {
   "cell_type": "code",
   "execution_count": 19,
   "metadata": {},
   "outputs": [
    {
     "name": "stdout",
     "output_type": "stream",
     "text": [
      "ASCII value of B is  66\n"
     ]
    }
   ],
   "source": [
    "#Input a single character and print its ascii values. \n",
    "\n",
    "character= 'B'\n",
    "print('ASCII value of ' +  character  + ' is ', ord(character))\n"
   ]
  },
  {
   "cell_type": "code",
   "execution_count": 27,
   "metadata": {},
   "outputs": [
    {
     "name": "stdout",
     "output_type": "stream",
     "text": [
      "Input Area Of the Circle: 100\n",
      "Radius of circle with area 100.0 is:  5.641895835477563\n",
      "Circumference of circle with area 100.0 is:  35.449077018110316\n"
     ]
    }
   ],
   "source": [
    "#WAP that takes area of a circle and gives back the radius and circumference. \n",
    "\n",
    "\n",
    "from math import pi\n",
    "area=float(input('Input Area Of the Circle: '))\n",
    "Radius=  (area/pi)**0.5\n",
    "print ('Radius of circle with area ' + str(area) + ' is: ', Radius)\n",
    "print ('Circumference of circle with area ' + str(area) + ' is: ', 2*pi*Radius)"
   ]
  },
  {
   "cell_type": "code",
   "execution_count": 4,
   "metadata": {},
   "outputs": [
    {
     "name": "stdout",
     "output_type": "stream",
     "text": [
      "Marks in Subject 1:75\n",
      "Marks in Subject 2:75\n",
      "Marks in Subject 3:75\n",
      "Marks in Subject 4:50\n",
      "Marks in Subject 5:75\n",
      "Percentage Achieved: 70.0\n"
     ]
    }
   ],
   "source": [
    "#We need to input marks in 5 subjects out of 100 and print percentage.\n",
    "\n",
    "subject1=float(input('Marks in Subject 1:'))\n",
    "subject2=float(input('Marks in Subject 2:'))\n",
    "subject3=float(input('Marks in Subject 3:'))\n",
    "subject4=float(input('Marks in Subject 4:'))\n",
    "subject5=float(input('Marks in Subject 5:'))\n",
    "\n",
    "sum = subject1+subject2+subject3+subject4+subject5\n",
    "percentage = (sum/500)*100\n",
    "\n",
    "print('Percentage Achieved:', percentage)\n",
    "\n"
   ]
  },
  {
   "cell_type": "code",
   "execution_count": null,
   "metadata": {},
   "outputs": [],
   "source": []
  },
  {
   "cell_type": "code",
   "execution_count": null,
   "metadata": {},
   "outputs": [],
   "source": []
  }
 ],
 "metadata": {
  "kernelspec": {
   "display_name": "Python 3",
   "language": "python",
   "name": "python3"
  },
  "language_info": {
   "codemirror_mode": {
    "name": "ipython",
    "version": 3
   },
   "file_extension": ".py",
   "mimetype": "text/x-python",
   "name": "python",
   "nbconvert_exporter": "python",
   "pygments_lexer": "ipython3",
   "version": "3.8.3"
  }
 },
 "nbformat": 4,
 "nbformat_minor": 4
}
