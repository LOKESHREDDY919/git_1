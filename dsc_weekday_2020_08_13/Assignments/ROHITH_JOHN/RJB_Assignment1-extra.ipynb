{
 "cells": [
  {
   "cell_type": "code",
   "execution_count": 30,
   "metadata": {},
   "outputs": [
    {
     "name": "stdout",
     "output_type": "stream",
     "text": [
      "Enter temp100\n",
      "Temp in celsius  37.4\n"
     ]
    }
   ],
   "source": [
    "#A1_extra-Q1\n",
    "\n",
    "temperature=float(input(\"Enter temp\"))\n",
    "Celsius=(temperature-32)*0.55\n",
    "print(\"Temp in celsius \", round(Celsius,2))\n"
   ]
  },
  {
   "cell_type": "code",
   "execution_count": 43,
   "metadata": {},
   "outputs": [
    {
     "name": "stdout",
     "output_type": "stream",
     "text": [
      "enter a number 2\n",
      "square of the number: 4\n",
      "cube of the number:  8\n"
     ]
    }
   ],
   "source": [
    "#A1_extra-Q2\n",
    "\n",
    "number=int(input(\"enter a number \"))\n",
    "square=pow(2,2)\n",
    "cube=pow(2,3)\n",
    "print(\"square of the number:\",square)\n",
    "print(\"cube of the number: \",cube)\n"
   ]
  },
  {
   "cell_type": "code",
   "execution_count": 44,
   "metadata": {},
   "outputs": [
    {
     "name": "stdout",
     "output_type": "stream",
     "text": [
      "enter a number 2\n",
      "enter a number 3\n",
      "13\n"
     ]
    }
   ],
   "source": [
    "#A1_extra-Q3\n",
    "\n",
    "n=int(input(\"enter a number \"))\n",
    "m=int(input(\"enter a number \"))\n",
    "print(pow(n,2)+pow(m,2))"
   ]
  },
  {
   "cell_type": "code",
   "execution_count": 50,
   "metadata": {},
   "outputs": [
    {
     "name": "stdout",
     "output_type": "stream",
     "text": [
      "enter a number 2\n",
      "enter a number 3\n",
      "8\n",
      "8\n"
     ]
    }
   ],
   "source": [
    "#A1_extra-Q4\n",
    "\n",
    "m=int(input(\"enter a number \"))\n",
    "n=int(input(\"enter a number \"))\n",
    "print(pow(m,n))\n",
    "print(m**n)"
   ]
  },
  {
   "cell_type": "code",
   "execution_count": 57,
   "metadata": {},
   "outputs": [
    {
     "name": "stdout",
     "output_type": "stream",
     "text": [
      "enter the initial principal balance Rs10000\n",
      "enter the annual interest rate 7.5\n",
      "enter the time period in years 1.5\n",
      "simple interest for the given amount Rs 11125.0\n"
     ]
    }
   ],
   "source": [
    "#A1_extra-Q5\n",
    "\n",
    "P=float(input(\"enter the initial principal balance Rs\"))\n",
    "r=float(input(\"enter the annual interest rate \"))\n",
    "t=float(input(\"enter the time period in years \"))\n",
    "A=P*(1+(r/100)*t)\n",
    "print(\"simple interest for the given amount Rs\",A)\n"
   ]
  },
  {
   "cell_type": "code",
   "execution_count": 10,
   "metadata": {},
   "outputs": [
    {
     "name": "stdout",
     "output_type": "stream",
     "text": [
      "enter the initial principal balance Rs10000\n",
      "enter the annual interest rate 7.5\n",
      "enter the time period in years 1.5\n",
      "number of times interest applied per time period2\n",
      "compound interest for the amount Rs 53157376.0\n"
     ]
    }
   ],
   "source": [
    "#A1_extra-Q6\n",
    "\n",
    "\n",
    "P=float(input(\"enter the initial principal balance Rs\"))\n",
    "r=float(input(\"enter the annual interest rate \"))\n",
    "t=float(input(\"enter the time period in years \"))\n",
    "n=float(input(\"number of times interest applied per time period\"))\n",
    "A=pow((1+(r/n*100)),n*t)\n",
    "print(\"compound interest for the amount Rs\",A)"
   ]
  },
  {
   "cell_type": "code",
   "execution_count": 21,
   "metadata": {},
   "outputs": [
    {
     "name": "stdout",
     "output_type": "stream",
     "text": [
      "enter the a positive number2\n",
      "3\n"
     ]
    }
   ],
   "source": [
    "#A1_extra-Q7\n",
    "\n",
    "n=int(input(\"enter the a positive number\"))\n",
    "sum=0\n",
    "i=1\n",
    "while(i<=n):\n",
    " sum=sum+i\n",
    " i=i+1\n",
    "print(sum)\n"
   ]
  },
  {
   "cell_type": "code",
   "execution_count": 25,
   "metadata": {},
   "outputs": [
    {
     "name": "stdout",
     "output_type": "stream",
     "text": [
      "enter a number5\n",
      "enter a number2\n",
      "value of number1 before swapping 5\n",
      "value of number2 before swapping 2\n",
      "value of number1 after swapping 2\n",
      "value of number2 after swapping 5\n"
     ]
    }
   ],
   "source": [
    "#A1_extra-Q8 >>>>>>using temporary variable\n",
    "\n",
    "number1=int(input(\"enter a number\"))\n",
    "number2=int(input(\"enter a number\"))\n",
    "print(\"value of number1 before swapping\",number1)\n",
    "print(\"value of number2 before swapping\",number2)\n",
    "temp_variable=number1\n",
    "number1=number2\n",
    "number2=temp_variable\n",
    "print(\"value of number1 after swapping\",number1)\n",
    "print(\"value of number2 after swapping\",number2)      \n",
    "\n",
    "\n"
   ]
  },
  {
   "cell_type": "code",
   "execution_count": 26,
   "metadata": {},
   "outputs": [
    {
     "name": "stdout",
     "output_type": "stream",
     "text": [
      "enter a number2\n",
      "enter a number5\n",
      "value of number1 before swapping 2\n",
      "value of number2 before swapping 5\n",
      "value of number1 after swapping 5\n",
      "value of number2 after swapping 2\n"
     ]
    }
   ],
   "source": [
    "#A1_extra-Q8 >>>>>>using python way\n",
    "\n",
    "umber1=int(input(\"enter a number\"))\n",
    "number2=int(input(\"enter a number\"))\n",
    "print(\"value of number1 before swapping\",number1)\n",
    "print(\"value of number2 before swapping\",number2)\n",
    "number1,number2=number2,number1\n",
    "print(\"value of number1 after swapping\",number1)\n",
    "print(\"value of number2 after swapping\",number2)  \n",
    "\n"
   ]
  },
  {
   "cell_type": "code",
   "execution_count": 38,
   "metadata": {},
   "outputs": [],
   "source": [
    "#A1_extra-Q9\n",
    "\n"
   ]
  },
  {
   "cell_type": "code",
   "execution_count": 36,
   "metadata": {},
   "outputs": [
    {
     "name": "stdout",
     "output_type": "stream",
     "text": [
      "Enter a character : A\n",
      "65\n"
     ]
    }
   ],
   "source": [
    "#A1_extra-Q10\n",
    "\n",
    "char = input(\"Enter a character : \")\n",
    "print(ord(char))"
   ]
  },
  {
   "cell_type": "code",
   "execution_count": 51,
   "metadata": {},
   "outputs": [
    {
     "name": "stdout",
     "output_type": "stream",
     "text": [
      "enter the area of the circle200\n",
      "radius 7.978845608028654\n",
      "circumference 50.13256549262001\n"
     ]
    }
   ],
   "source": [
    "#A1_extra-Q11\n",
    "import math\n",
    "area=float(input(\"enter the area of the circle\"))\n",
    "radius=math.sqrt(area/math.pi)\n",
    "circumference=2*math.pi*radius\n",
    "print(\"radius\",radius)\n",
    "print(\"circumference\",circumference)\n"
   ]
  },
  {
   "cell_type": "markdown",
   "metadata": {},
   "source": []
  },
  {
   "cell_type": "code",
   "execution_count": 55,
   "metadata": {},
   "outputs": [
    {
     "name": "stdout",
     "output_type": "stream",
     "text": [
      "enter marks in english 95\n",
      "enter marks in maths 99\n",
      "enter marks in french 92\n",
      "enter marks in physics 98\n",
      "enter marks in biology 91\n",
      "percentage: 95.0 %\n"
     ]
    }
   ],
   "source": [
    "#A1_extra-Q12\n",
    "english=int(input(\"enter marks in english \"))\n",
    "maths=int(input(\"enter marks in maths \"))\n",
    "french=int(input(\"enter marks in french \"))\n",
    "physics=int(input(\"enter marks in physics \"))\n",
    "biology=int(input(\"enter marks in biology \"))\n",
    "percentage=((english+maths+french+physics+biology)/500)*100\n",
    "print(\"percentage:\",percentage,\"%\")\n"
   ]
  },
  {
   "cell_type": "code",
   "execution_count": null,
   "metadata": {},
   "outputs": [],
   "source": []
  }
 ],
 "metadata": {
  "kernelspec": {
   "display_name": "Python 3",
   "language": "python",
   "name": "python3"
  },
  "language_info": {
   "codemirror_mode": {
    "name": "ipython",
    "version": 3
   },
   "file_extension": ".py",
   "mimetype": "text/x-python",
   "name": "python",
   "nbconvert_exporter": "python",
   "pygments_lexer": "ipython3",
   "version": "3.8.3"
  }
 },
 "nbformat": 4,
 "nbformat_minor": 4
}
