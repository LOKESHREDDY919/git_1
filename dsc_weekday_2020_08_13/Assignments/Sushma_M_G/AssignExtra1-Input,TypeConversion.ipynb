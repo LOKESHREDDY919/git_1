{
 "cells": [
  {
   "cell_type": "markdown",
   "metadata": {},
   "source": [
    "    1. Input temperature in Fahrenheit and print in celsius"
   ]
  },
  {
   "cell_type": "code",
   "execution_count": 2,
   "metadata": {},
   "outputs": [
    {
     "name": "stdout",
     "output_type": "stream",
     "text": [
      "Enter the temperature in Fahrenheit: 98.4\n",
      "The temperature in Celsius is : 36.88888888888889\n"
     ]
    }
   ],
   "source": [
    "F = float(input(\"Enter the temperature in Fahrenheit: \"))\n",
    "print(\"The temperature in Celsius is :\", (F-32)*(5/9))"
   ]
  },
  {
   "cell_type": "markdown",
   "metadata": {},
   "source": [
    "-----------------------------------------------------------------------------    \n",
    "    2. WAP to input a number and print its square and cube"
   ]
  },
  {
   "cell_type": "code",
   "execution_count": 4,
   "metadata": {},
   "outputs": [
    {
     "name": "stdout",
     "output_type": "stream",
     "text": [
      "Enter a number: 2\n",
      "4 8\n"
     ]
    }
   ],
   "source": [
    "n = int(input(\"Enter a number: \"))\n",
    "print(pow(n,2),pow(n,3))"
   ]
  },
  {
   "cell_type": "markdown",
   "metadata": {},
   "source": [
    "-------------------------------------------------------------------------------------------------------------\n",
    "    3. WAP to input a number n and a number m and print the following: n square + m square"
   ]
  },
  {
   "cell_type": "code",
   "execution_count": 6,
   "metadata": {},
   "outputs": [
    {
     "name": "stdout",
     "output_type": "stream",
     "text": [
      "Enter a number: 2\n",
      "Enter a number: 2\n",
      "8\n"
     ]
    }
   ],
   "source": [
    "n = int(input(\"Enter a number: \"))\n",
    "m = int(input(\"Enter a number: \"))\n",
    "print(pow(n,2)+pow(m,2))"
   ]
  },
  {
   "cell_type": "markdown",
   "metadata": {},
   "source": [
    "-------------------------------------   \n",
    "   4. WAP to input numbers M and N and print result of M to the power N"
   ]
  },
  {
   "cell_type": "code",
   "execution_count": 2,
   "metadata": {},
   "outputs": [
    {
     "name": "stdout",
     "output_type": "stream",
     "text": [
      "Enter a number: 3\n",
      "Enter a number: 3\n",
      "27\n"
     ]
    }
   ],
   "source": [
    "M = int(input(\"Enter a number: \"))\n",
    "N = int(input(\"Enter a number: \"))\n",
    "print(M**N)"
   ]
  },
  {
   "cell_type": "code",
   "execution_count": 3,
   "metadata": {},
   "outputs": [
    {
     "name": "stdout",
     "output_type": "stream",
     "text": [
      "Enter a number: 3\n",
      "Enter a number: 4\n",
      "81\n"
     ]
    }
   ],
   "source": [
    "M = int(input(\"Enter a number: \"))\n",
    "N = int(input(\"Enter a number: \"))\n",
    "print(pow(M,N))"
   ]
  },
  {
   "cell_type": "markdown",
   "metadata": {},
   "source": [
    "---------------------------------------------------\n",
    "    5. Write a simple interest calculator "
   ]
  },
  {
   "cell_type": "code",
   "execution_count": 5,
   "metadata": {},
   "outputs": [
    {
     "name": "stdout",
     "output_type": "stream",
     "text": [
      "Enter the principal: 100\n",
      "Enter the period in years: 1\n",
      "Enter the rate in %: 1\n",
      "Simple Interest is:  1.0\n"
     ]
    }
   ],
   "source": [
    "P = int(input(\"Enter the principal: \"))\n",
    "T = int(input(\"Enter the period in years: \"))\n",
    "R = int(input(\"Enter the rate in %: \"))\n",
    "print(\"Simple Interest is: \", (P*T*R)/100)"
   ]
  },
  {
   "cell_type": "markdown",
   "metadata": {},
   "source": [
    "-----------------------------------------------------------------    \n",
    "    6. Input Principal, Rate , time and print compound interest and amount"
   ]
  },
  {
   "cell_type": "code",
   "execution_count": 6,
   "metadata": {},
   "outputs": [
    {
     "name": "stdout",
     "output_type": "stream",
     "text": [
      "Enter the principal: 100\n",
      "Enter the period in years: 1\n",
      "Enter the rate in %: 10\n",
      "The compount interest is:  110.00000000000001\n"
     ]
    }
   ],
   "source": [
    "P = int(input(\"Enter the principal: \"))\n",
    "T = int(input(\"Enter the period in years: \"))\n",
    "R = int(input(\"Enter the rate in %: \"))\n",
    "print(\"The compount interest is: \", P*pow(1+(R/100),T))"
   ]
  },
  {
   "cell_type": "markdown",
   "metadata": {},
   "source": [
    "----------------------------------------------------------------------------------------------    \n",
    "    7. WAP to input the Sum of first N natural numbers(N has to be taken as input) "
   ]
  },
  {
   "cell_type": "code",
   "execution_count": 12,
   "metadata": {},
   "outputs": [
    {
     "name": "stdout",
     "output_type": "stream",
     "text": [
      "4\n",
      "10\n"
     ]
    }
   ],
   "source": [
    "N = int(input())\n",
    "s = 0\n",
    "for e in range(0,N+1):\n",
    "    s=s+e\n",
    "print(s)"
   ]
  },
  {
   "cell_type": "markdown",
   "metadata": {},
   "source": [
    "----------------------------------------------------------------------------------------\n",
    "    8. WAP to input 2 numbers and swap them(write using normal logic with temp variable and also a pythonic way"
   ]
  },
  {
   "cell_type": "code",
   "execution_count": 14,
   "metadata": {},
   "outputs": [
    {
     "name": "stdout",
     "output_type": "stream",
     "text": [
      "6\n",
      "8\n",
      "The swapped numbers are  : 8 6\n"
     ]
    }
   ],
   "source": [
    "#using temp variable:\n",
    "a = int(input())\n",
    "b = int(input())\n",
    "t=a\n",
    "a=b\n",
    "b=t\n",
    "print(\"The swapped numbers are  :\", a , b)"
   ]
  },
  {
   "cell_type": "code",
   "execution_count": 15,
   "metadata": {},
   "outputs": [
    {
     "name": "stdout",
     "output_type": "stream",
     "text": [
      "6\n",
      "8\n",
      "The swapped numbers are  : 8 6\n"
     ]
    }
   ],
   "source": [
    "#using pythonic way\n",
    "a = int(input())\n",
    "b = int(input())\n",
    "a = a+b\n",
    "b = a-b\n",
    "a = a-b\n",
    "print(\"The swapped numbers are  :\", a , b)"
   ]
  },
  {
   "cell_type": "markdown",
   "metadata": {},
   "source": [
    "----------------------------------------------\n",
    "    9. WAP to print ASCII value of all whitespace characters present in python"
   ]
  },
  {
   "cell_type": "code",
   "execution_count": null,
   "metadata": {},
   "outputs": [],
   "source": []
  },
  {
   "cell_type": "markdown",
   "metadata": {},
   "source": [
    "-----------------------------------------------------------------------------------\n",
    "    10. Input a single character and print its ASCII value"
   ]
  },
  {
   "cell_type": "code",
   "execution_count": 16,
   "metadata": {},
   "outputs": [
    {
     "name": "stdout",
     "output_type": "stream",
     "text": [
      "Enter a character : A\n",
      "65\n"
     ]
    }
   ],
   "source": [
    "char = input(\"Enter a character : \")\n",
    "print(ord(char))"
   ]
  },
  {
   "cell_type": "markdown",
   "metadata": {},
   "source": [
    "---------------------------------------------------------------------\n",
    "    11. WAP that takes the area of the circle and gives back the radius and circumference"
   ]
  },
  {
   "cell_type": "code",
   "execution_count": 21,
   "metadata": {},
   "outputs": [
    {
     "name": "stdout",
     "output_type": "stream",
     "text": [
      "Enter the area of circle: 314.2\n",
      "the radius of the circle is : 10.0\n",
      "the circumference of the circle is : 62.839999999999996\n"
     ]
    }
   ],
   "source": [
    "import math\n",
    "PI = 3.142\n",
    "Area = float(input(\"Enter the area of circle: \"))\n",
    "r = math.sqrt(Area/PI)\n",
    "print(\"the radius of the circle is :\",r)\n",
    "print(\"the circumference of the circle is :\",(2*PI*r))"
   ]
  },
  {
   "cell_type": "markdown",
   "metadata": {},
   "source": [
    "-----------------------------------------------------------------\n",
    "    12. We need to input marks in 5 subjects out of 100 and print percentage"
   ]
  },
  {
   "cell_type": "code",
   "execution_count": 28,
   "metadata": {},
   "outputs": [
    {
     "name": "stdout",
     "output_type": "stream",
     "text": [
      "Enter the marks of the first subject: 75\n",
      "Enter the marks of the second subject: 75\n",
      "Enter the marks of the third subject: 75\n",
      "Enter the marks of the fourth subject: 75\n",
      "Enter the marks of the fifth subject: 75\n",
      "The percentage is: 75.0 %\n"
     ]
    }
   ],
   "source": [
    "m1 = int(input(\"Enter the marks of the first subject: \"))\n",
    "m2 = int(input(\"Enter the marks of the second subject: \"))\n",
    "m3 = int(input(\"Enter the marks of the third subject: \"))\n",
    "m4 = int(input(\"Enter the marks of the fourth subject: \"))\n",
    "m5 = int(input(\"Enter the marks of the fifth subject: \"))\n",
    "percent = (m1+m2+m3+m4+m5)/5\n",
    "print(f\"The percentage is: {percent}\"+str(\"%\"))"
   ]
  },
  {
   "cell_type": "code",
   "execution_count": null,
   "metadata": {},
   "outputs": [],
   "source": []
  }
 ],
 "metadata": {
  "kernelspec": {
   "display_name": "Python 3",
   "language": "python",
   "name": "python3"
  },
  "language_info": {
   "codemirror_mode": {
    "name": "ipython",
    "version": 3
   },
   "file_extension": ".py",
   "mimetype": "text/x-python",
   "name": "python",
   "nbconvert_exporter": "python",
   "pygments_lexer": "ipython3",
   "version": "3.8.3"
  }
 },
 "nbformat": 4,
 "nbformat_minor": 4
}
